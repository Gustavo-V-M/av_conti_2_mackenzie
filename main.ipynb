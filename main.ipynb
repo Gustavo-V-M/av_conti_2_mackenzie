{
 "cells": [
  {
   "cell_type": "code",
   "execution_count": null,
   "metadata": {},
   "outputs": [],
   "source": []
  }
 ],
 "metadata": {
  "kernelspec": {
   "display_name": "Python 3.10.7 64-bit",
   "language": "python",
   "name": "python3"
  },
  "language_info": {
   "name": "python",
   "version": "3.10.7"
  },
  "orig_nbformat": 4,
  "vscode": {
   "interpreter": {
    "hash": "75fd4515a26417e1cc8e8e846997649b551744db33193f5721d53959d3e1e6ef"
   }
  }
 },
 "nbformat": 4,
 "nbformat_minor": 2
}
