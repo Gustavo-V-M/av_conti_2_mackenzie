{
 "cells": [
  {
   "cell_type": "code",
   "execution_count": 15,
   "metadata": {},
   "outputs": [],
   "source": [
    "\n",
    "import pandas as pd\n",
    "import numpy as np"
   ]
  },
  {
   "cell_type": "markdown",
   "metadata": {},
   "source": [
    "Lendo a Database"
   ]
  },
  {
   "cell_type": "code",
   "execution_count": 16,
   "metadata": {},
   "outputs": [
    {
     "data": {
      "text/html": [
       "<div>\n",
       "<style scoped>\n",
       "    .dataframe tbody tr th:only-of-type {\n",
       "        vertical-align: middle;\n",
       "    }\n",
       "\n",
       "    .dataframe tbody tr th {\n",
       "        vertical-align: top;\n",
       "    }\n",
       "\n",
       "    .dataframe thead th {\n",
       "        text-align: right;\n",
       "    }\n",
       "</style>\n",
       "<table border=\"1\" class=\"dataframe\">\n",
       "  <thead>\n",
       "    <tr style=\"text-align: right;\">\n",
       "      <th></th>\n",
       "      <th>Data</th>\n",
       "      <th>Energia elétrica - consumo -  quantidade - GWh - Eletrobras - ELETRO_CEET</th>\n",
       "      <th>Unnamed: 2</th>\n",
       "    </tr>\n",
       "  </thead>\n",
       "  <tbody>\n",
       "    <tr>\n",
       "      <th>0</th>\n",
       "      <td>1952</td>\n",
       "      <td>8513.0</td>\n",
       "      <td>NaN</td>\n",
       "    </tr>\n",
       "    <tr>\n",
       "      <th>1</th>\n",
       "      <td>1953</td>\n",
       "      <td>8588.0</td>\n",
       "      <td>NaN</td>\n",
       "    </tr>\n",
       "    <tr>\n",
       "      <th>2</th>\n",
       "      <td>1954</td>\n",
       "      <td>9759.0</td>\n",
       "      <td>NaN</td>\n",
       "    </tr>\n",
       "    <tr>\n",
       "      <th>3</th>\n",
       "      <td>1955</td>\n",
       "      <td>11289.0</td>\n",
       "      <td>NaN</td>\n",
       "    </tr>\n",
       "    <tr>\n",
       "      <th>4</th>\n",
       "      <td>1956</td>\n",
       "      <td>12634.0</td>\n",
       "      <td>NaN</td>\n",
       "    </tr>\n",
       "    <tr>\n",
       "      <th>...</th>\n",
       "      <td>...</td>\n",
       "      <td>...</td>\n",
       "      <td>...</td>\n",
       "    </tr>\n",
       "    <tr>\n",
       "      <th>65</th>\n",
       "      <td>2017</td>\n",
       "      <td>465039.0</td>\n",
       "      <td>NaN</td>\n",
       "    </tr>\n",
       "    <tr>\n",
       "      <th>66</th>\n",
       "      <td>2018</td>\n",
       "      <td>471643.0</td>\n",
       "      <td>NaN</td>\n",
       "    </tr>\n",
       "    <tr>\n",
       "      <th>67</th>\n",
       "      <td>2019</td>\n",
       "      <td>480782.0</td>\n",
       "      <td>NaN</td>\n",
       "    </tr>\n",
       "    <tr>\n",
       "      <th>68</th>\n",
       "      <td>2020</td>\n",
       "      <td>473944.0</td>\n",
       "      <td>NaN</td>\n",
       "    </tr>\n",
       "    <tr>\n",
       "      <th>69</th>\n",
       "      <td>2021</td>\n",
       "      <td>500209.0</td>\n",
       "      <td>NaN</td>\n",
       "    </tr>\n",
       "  </tbody>\n",
       "</table>\n",
       "<p>70 rows × 3 columns</p>\n",
       "</div>"
      ],
      "text/plain": [
       "    Data  \\\n",
       "0   1952   \n",
       "1   1953   \n",
       "2   1954   \n",
       "3   1955   \n",
       "4   1956   \n",
       "..   ...   \n",
       "65  2017   \n",
       "66  2018   \n",
       "67  2019   \n",
       "68  2020   \n",
       "69  2021   \n",
       "\n",
       "    Energia elétrica - consumo -  quantidade - GWh - Eletrobras - ELETRO_CEET  \\\n",
       "0                                              8513.0                           \n",
       "1                                              8588.0                           \n",
       "2                                              9759.0                           \n",
       "3                                             11289.0                           \n",
       "4                                             12634.0                           \n",
       "..                                                ...                           \n",
       "65                                           465039.0                           \n",
       "66                                           471643.0                           \n",
       "67                                           480782.0                           \n",
       "68                                           473944.0                           \n",
       "69                                           500209.0                           \n",
       "\n",
       "    Unnamed: 2  \n",
       "0          NaN  \n",
       "1          NaN  \n",
       "2          NaN  \n",
       "3          NaN  \n",
       "4          NaN  \n",
       "..         ...  \n",
       "65         NaN  \n",
       "66         NaN  \n",
       "67         NaN  \n",
       "68         NaN  \n",
       "69         NaN  \n",
       "\n",
       "[70 rows x 3 columns]"
      ]
     },
     "execution_count": 16,
     "metadata": {},
     "output_type": "execute_result"
    }
   ],
   "source": [
    "df = pd.read_csv(\"energia_eletrica_consumo.csv\", decimal=\",\", sep=\";\")\n",
    "df"
   ]
  },
  {
   "cell_type": "markdown",
   "metadata": {},
   "source": [
    "Dropando a coluna com valores nulos"
   ]
  },
  {
   "cell_type": "code",
   "execution_count": 17,
   "metadata": {},
   "outputs": [
    {
     "data": {
      "text/html": [
       "<div>\n",
       "<style scoped>\n",
       "    .dataframe tbody tr th:only-of-type {\n",
       "        vertical-align: middle;\n",
       "    }\n",
       "\n",
       "    .dataframe tbody tr th {\n",
       "        vertical-align: top;\n",
       "    }\n",
       "\n",
       "    .dataframe thead th {\n",
       "        text-align: right;\n",
       "    }\n",
       "</style>\n",
       "<table border=\"1\" class=\"dataframe\">\n",
       "  <thead>\n",
       "    <tr style=\"text-align: right;\">\n",
       "      <th></th>\n",
       "      <th>Data</th>\n",
       "      <th>Energia elétrica - consumo -  quantidade - GWh - Eletrobras - ELETRO_CEET</th>\n",
       "    </tr>\n",
       "  </thead>\n",
       "  <tbody>\n",
       "    <tr>\n",
       "      <th>0</th>\n",
       "      <td>1952</td>\n",
       "      <td>8513.0</td>\n",
       "    </tr>\n",
       "    <tr>\n",
       "      <th>1</th>\n",
       "      <td>1953</td>\n",
       "      <td>8588.0</td>\n",
       "    </tr>\n",
       "    <tr>\n",
       "      <th>2</th>\n",
       "      <td>1954</td>\n",
       "      <td>9759.0</td>\n",
       "    </tr>\n",
       "    <tr>\n",
       "      <th>3</th>\n",
       "      <td>1955</td>\n",
       "      <td>11289.0</td>\n",
       "    </tr>\n",
       "    <tr>\n",
       "      <th>4</th>\n",
       "      <td>1956</td>\n",
       "      <td>12634.0</td>\n",
       "    </tr>\n",
       "    <tr>\n",
       "      <th>...</th>\n",
       "      <td>...</td>\n",
       "      <td>...</td>\n",
       "    </tr>\n",
       "    <tr>\n",
       "      <th>65</th>\n",
       "      <td>2017</td>\n",
       "      <td>465039.0</td>\n",
       "    </tr>\n",
       "    <tr>\n",
       "      <th>66</th>\n",
       "      <td>2018</td>\n",
       "      <td>471643.0</td>\n",
       "    </tr>\n",
       "    <tr>\n",
       "      <th>67</th>\n",
       "      <td>2019</td>\n",
       "      <td>480782.0</td>\n",
       "    </tr>\n",
       "    <tr>\n",
       "      <th>68</th>\n",
       "      <td>2020</td>\n",
       "      <td>473944.0</td>\n",
       "    </tr>\n",
       "    <tr>\n",
       "      <th>69</th>\n",
       "      <td>2021</td>\n",
       "      <td>500209.0</td>\n",
       "    </tr>\n",
       "  </tbody>\n",
       "</table>\n",
       "<p>70 rows × 2 columns</p>\n",
       "</div>"
      ],
      "text/plain": [
       "    Data  \\\n",
       "0   1952   \n",
       "1   1953   \n",
       "2   1954   \n",
       "3   1955   \n",
       "4   1956   \n",
       "..   ...   \n",
       "65  2017   \n",
       "66  2018   \n",
       "67  2019   \n",
       "68  2020   \n",
       "69  2021   \n",
       "\n",
       "    Energia elétrica - consumo -  quantidade - GWh - Eletrobras - ELETRO_CEET  \n",
       "0                                              8513.0                          \n",
       "1                                              8588.0                          \n",
       "2                                              9759.0                          \n",
       "3                                             11289.0                          \n",
       "4                                             12634.0                          \n",
       "..                                                ...                          \n",
       "65                                           465039.0                          \n",
       "66                                           471643.0                          \n",
       "67                                           480782.0                          \n",
       "68                                           473944.0                          \n",
       "69                                           500209.0                          \n",
       "\n",
       "[70 rows x 2 columns]"
      ]
     },
     "execution_count": 17,
     "metadata": {},
     "output_type": "execute_result"
    }
   ],
   "source": [
    "df.pop(df.columns[2])\n",
    "df"
   ]
  },
  {
   "cell_type": "markdown",
   "metadata": {},
   "source": [
    "Criando uma matriz com X = Indices e Y = Energia elétrica"
   ]
  },
  {
   "cell_type": "code",
   "execution_count": 18,
   "metadata": {},
   "outputs": [
    {
     "data": {
      "text/plain": [
       "array([[0.00000e+00, 8.51300e+03],\n",
       "       [1.00000e+00, 8.58800e+03],\n",
       "       [2.00000e+00, 9.75900e+03],\n",
       "       [3.00000e+00, 1.12890e+04],\n",
       "       [4.00000e+00, 1.26340e+04],\n",
       "       [5.00000e+00, 1.40830e+04],\n",
       "       [6.00000e+00, 1.60770e+04],\n",
       "       [7.00000e+00, 1.71620e+04],\n",
       "       [8.00000e+00, 1.83460e+04],\n",
       "       [9.00000e+00, 1.96300e+04],\n",
       "       [1.00000e+01, 2.18570e+04],\n",
       "       [1.10000e+01, 2.26180e+04],\n",
       "       [1.20000e+01, 2.35210e+04],\n",
       "       [1.30000e+01, 2.42680e+04],\n",
       "       [1.40000e+01, 2.64940e+04],\n",
       "       [1.50000e+01, 2.79880e+04],\n",
       "       [1.60000e+01, 3.13990e+04],\n",
       "       [1.70000e+01, 3.45140e+04],\n",
       "       [1.80000e+01, 3.81520e+04],\n",
       "       [1.90000e+01, 4.48460e+04],\n",
       "       [2.00000e+01, 4.98390e+04],\n",
       "       [2.10000e+01, 5.49280e+04],\n",
       "       [2.20000e+01, 6.16300e+04],\n",
       "       [2.30000e+01, 6.81800e+04],\n",
       "       [2.40000e+01, 7.16349e+04],\n",
       "       [2.50000e+01, 8.08047e+04],\n",
       "       [2.60000e+01, 9.00705e+04],\n",
       "       [2.70000e+01, 1.01146e+05],\n",
       "       [2.80000e+01, 1.12055e+05],\n",
       "       [2.90000e+01, 1.15402e+05],\n",
       "       [3.00000e+01, 1.22805e+05],\n",
       "       [3.10000e+01, 1.32438e+05],\n",
       "       [3.20000e+01, 1.48397e+05],\n",
       "       [3.30000e+01, 1.63015e+05],\n",
       "       [3.40000e+01, 1.74270e+05],\n",
       "       [3.50000e+01, 1.79572e+05],\n",
       "       [3.60000e+01, 1.88597e+05],\n",
       "       [3.70000e+01, 1.97185e+05],\n",
       "       [3.80000e+01, 2.00639e+05],\n",
       "       [3.90000e+01, 2.09408e+05],\n",
       "       [4.00000e+01, 2.12757e+05],\n",
       "       [4.10000e+01, 2.20648e+05],\n",
       "       [4.20000e+01, 2.25925e+05],\n",
       "       [4.30000e+01, 2.43836e+05],\n",
       "       [4.40000e+01, 2.57611e+05],\n",
       "       [4.50000e+01, 2.73281e+05],\n",
       "       [4.60000e+01, 2.84525e+05],\n",
       "       [4.70000e+01, 2.92190e+05],\n",
       "       [4.80000e+01, 3.07530e+05],\n",
       "       [4.90000e+01, 2.83259e+05],\n",
       "       [5.00000e+01, 2.89867e+05],\n",
       "       [5.10000e+01, 3.00992e+05],\n",
       "       [5.20000e+01, 3.17428e+05],\n",
       "       [5.30000e+01, 3.35917e+05],\n",
       "       [5.40000e+01, 3.57974e+05],\n",
       "       [5.50000e+01, 3.78554e+05],\n",
       "       [5.60000e+01, 3.92844e+05],\n",
       "       [5.70000e+01, 3.88611e+05],\n",
       "       [5.80000e+01, 4.15684e+05],\n",
       "       [5.90000e+01, 4.33033e+05],\n",
       "       [6.00000e+01, 4.48134e+05],\n",
       "       [6.10000e+01, 4.63068e+05],\n",
       "       [6.20000e+01, 4.73557e+05],\n",
       "       [6.30000e+01, 4.64600e+05],\n",
       "       [6.40000e+01, 4.60156e+05],\n",
       "       [6.50000e+01, 4.65039e+05],\n",
       "       [6.60000e+01, 4.71643e+05],\n",
       "       [6.70000e+01, 4.80782e+05],\n",
       "       [6.80000e+01, 4.73944e+05],\n",
       "       [6.90000e+01, 5.00209e+05]])"
      ]
     },
     "execution_count": 18,
     "metadata": {},
     "output_type": "execute_result"
    }
   ],
   "source": [
    "indices = range(len(df))\n",
    "Y = [float(x) for x in list(df.iloc[:,1])]\n",
    "\n",
    "M = np.array([indices, Y])\n",
    "M = M.transpose()\n",
    "M"
   ]
  },
  {
   "cell_type": "markdown",
   "metadata": {},
   "source": [
    "Usando a função criada para encontrar dos coeficientes a e b para a regressão linear da base de dados"
   ]
  },
  {
   "cell_type": "code",
   "execution_count": 19,
   "metadata": {},
   "outputs": [
    {
     "name": "stdout",
     "output_type": "stream",
     "text": [
      "a = 7803.510967372367\n",
      "b = -70114.4631859756\n"
     ]
    }
   ],
   "source": [
    "import funcs_propias\n",
    "\n",
    "a, b = funcs_propias.regressaoLinear(M)\n",
    "print(f\"a = {a}\\nb = {b}\")"
   ]
  },
  {
   "cell_type": "markdown",
   "metadata": {},
   "source": [
    "Plotando as duas bases de dados"
   ]
  },
  {
   "cell_type": "code",
   "execution_count": 43,
   "metadata": {},
   "outputs": [
    {
     "data": {
      "image/png": "[encoded data removed]",
      "text/plain": [
       "<Figure size 1000x500 with 1 Axes>"
      ]
     },
     "metadata": {},
     "output_type": "display_data"
    }
   ],
   "source": [
    "y_esperado = []\n",
    "for i in indices:\n",
    "    y_esperado.append(a*i + b)\n",
    "\n",
    "from turtle import width\n",
    "import matplotlib.pyplot as plt\n",
    "\n",
    "ticks_interest = [i for i in np.arange(0,69,10)]\n",
    "label_interest = []\n",
    "for i in ticks_interest:\n",
    "    label_interest.append(int(df.iloc[i][0]))\n",
    "\n",
    "fig = plt.figure(figsize=(10,5))\n",
    "plt.plot(M[:,1], \"g+\", label=\"Valores observados\")\n",
    "plt.plot(y_esperado, label=\"Valores Esperados\")\n",
    "plt.legend()\n",
    "plt.xticks(ticks_interest, labels=label_interest)\n",
    "plt.tick_params(axis=\"x\", rotation=60, labelsize=\"small\")\n",
    "plt.title(\"Regresssão Linear\")\n",
    "plt.show()"
   ]
  }
 ],
 "metadata": {
  "kernelspec": {
   "display_name": "Python 3.10.7 64-bit",
   "language": "python",
   "name": "python3"
  },
  "language_info": {
   "codemirror_mode": {
    "name": "ipython",
    "version": 3
   },
   "file_extension": ".py",
   "mimetype": "text/x-python",
   "name": "python",
   "nbconvert_exporter": "python",
   "pygments_lexer": "ipython3",
   "version": "3.10.7"
  },
  "orig_nbformat": 4,
  "vscode": {
   "interpreter": {
    "hash": "75fd4515a26417e1cc8e8e846997649b551744db33193f5721d53959d3e1e6ef"
   }
  }
 },
 "nbformat": 4,
 "nbformat_minor": 2
}
